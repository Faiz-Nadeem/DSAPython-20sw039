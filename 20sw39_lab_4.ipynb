{
  "nbformat": 4,
  "nbformat_minor": 0,
  "metadata": {
    "colab": {
      "provenance": [],
      "authorship_tag": "ABX9TyPG2thYOjkyhcDRdE0uAFKT",
      "include_colab_link": true
    },
    "kernelspec": {
      "name": "python3",
      "display_name": "Python 3"
    },
    "language_info": {
      "name": "python"
    }
  },
  "cells": [
    {
      "cell_type": "markdown",
      "metadata": {
        "id": "view-in-github",
        "colab_type": "text"
      },
      "source": [
        "<a href=\"https://colab.research.google.com/github/Faiz-Nadeem/DSAPython-20sw039/blob/main/20sw39_lab_4.ipynb\" target=\"_parent\"><img src=\"https://colab.research.google.com/assets/colab-badge.svg\" alt=\"Open In Colab\"/></a>"
      ]
    },
    {
      "cell_type": "markdown",
      "source": [
        "20sw039 lab 4"
      ],
      "metadata": {
        "id": "DiQHX9KjRhKo"
      }
    },
    {
      "cell_type": "markdown",
      "source": [
        "task # 01"
      ],
      "metadata": {
        "id": "y2lHkC3fQ5do"
      }
    },
    {
      "cell_type": "code",
      "source": [
        "import numpy as np\n",
        "\n",
        "X = np.arange(2, 33, 2).reshape(4, 4)\n",
        "print(X)"
      ],
      "metadata": {
        "colab": {
          "base_uri": "https://localhost:8080/"
        },
        "id": "7bl4CuLiQ8kg",
        "outputId": "75d4ac22-8857-4f8c-ab3e-3081e23d528e"
      },
      "execution_count": 1,
      "outputs": [
        {
          "output_type": "stream",
          "name": "stdout",
          "text": [
            "[[ 2  4  6  8]\n",
            " [10 12 14 16]\n",
            " [18 20 22 24]\n",
            " [26 28 30 32]]\n"
          ]
        }
      ]
    },
    {
      "cell_type": "markdown",
      "source": [
        "task # 02"
      ],
      "metadata": {
        "id": "kyIuGC4SRC-V"
      }
    },
    {
      "cell_type": "code",
      "source": [
        "import numpy as np\n",
        "\n",
        "X = np.arange(1, 26).reshape(5, 5)\n",
        "\n",
        "Y = X[X % 2 != 0]\n",
        "\n",
        "print(\"Original Array:\")\n",
        "print(X)\n",
        "print(\"\\nArray with Odd Numbers:\")\n",
        "print(Y)"
      ],
      "metadata": {
        "id": "f3C_pWAuRHPu"
      },
      "execution_count": null,
      "outputs": []
    },
    {
      "cell_type": "markdown",
      "source": [
        "task # 03"
      ],
      "metadata": {
        "id": "QDCKlb0SRK6O"
      }
    },
    {
      "cell_type": "code",
      "source": [
        "import numpy as np\n",
        "\n",
        "X = np.arange(1, 5).reshape(4, 1) * np.ones((1, 4))\n",
        "\n",
        "print(X)"
      ],
      "metadata": {
        "id": "INbJ6-adRMdb"
      },
      "execution_count": null,
      "outputs": []
    },
    {
      "cell_type": "markdown",
      "source": [
        "task # 04"
      ],
      "metadata": {
        "id": "eSu1C53BRP4j"
      }
    },
    {
      "cell_type": "code",
      "source": [
        "from google.colab import drive\n",
        "drive.mount('/NumPy.ipnyb')\n",
        "import numpy as np\n",
        "\n",
        "# Create a 1000x20 ndarray with random integers in the range [0, 5001)\n",
        "X = np.random.randint(0, 5001, size=(1000, 20))\n",
        "# Print the shape of X\n",
        "print(X.shape)\n",
        "\n",
        "# Calculate the average of the values in each column of X\n",
        "ave_cols = np.mean(X, axis=0)\n",
        "\n",
        "# Calculate the standard deviation of the values in each column of X\n",
        "std_cols = np.std(X, axis=0)\n",
        "\n",
        "\n",
        "print(\"Shape of ave_cols:\", ave_cols.shape)\n",
        "print(\"Shape of std_cols:\", std_cols.shape)\n",
        "\n",
        "# Mean normalize X\n",
        "X_norm = (X - ave_cols) / std_cols\n",
        "\n",
        "print(\"Mean normalized X:\")\n",
        "print(X_norm)\n",
        "\n",
        "# Print the average of all the values of X_norm\n",
        "ave_all_values = np.mean(X_norm)\n",
        "print(\"Average of all values in X_norm:\", ave_all_values)\n",
        "\n",
        "# Print the average of the minimum value in each column of X_norm\n",
        "ave_min_values = np.mean(np.min(X_norm, axis=0))\n",
        "print(\"Average of minimum values in each column of X_norm:\", ave_min_values)\n",
        "\n",
        "# Print the average of the maximum value in each column of X_norm\n",
        "ave_max_values = np.mean(np.max(X_norm, axis=0))\n",
        "print(\"Average of maximum values in each column of X_norm:\", ave_max_values)\n",
        "\n",
        "# We create a random permutation of integers 0 to 4\n",
        "np.random.permutation(5)\n",
        "\n",
        "# Create a random permutation of row indices of X_norm\n",
        "row_indices = np.random.permutation(X_norm.shape[0])\n",
        "\n",
        "print(\"Random permutation of row indices:\", row_indices)\n",
        "\n",
        "# Define the ratios for training, cross-validation, and test sets\n",
        "train_ratio = 0.6\n",
        "cross_val_ratio = 0.2\n",
        "test_ratio = 0.2\n",
        "\n",
        "# Calculate the sizes of each set based on the ratios\n",
        "num_rows = X_norm.shape[0]\n",
        "num_train = int(train_ratio * num_rows)\n",
        "num_cross_val = int(cross_val_ratio * num_rows)\n",
        "num_test = int(test_ratio * num_rows)\n",
        "\n",
        "# Use row_indices to split the data into sets\n",
        "X_train = X_norm[row_indices[:num_train]]\n",
        "X_crossVal = X_norm[row_indices[num_train:num_train + num_cross_val]]\n",
        "X_test = X_norm[row_indices[num_train + num_cross_val:]]\n",
        "\n",
        "print(\"X_train shape:\", X_train.shape)\n",
        "print(\"X_crossVal shape:\", X_crossVal.shape)\n",
        "print(\"X_test shape:\", X_test.shape)"
      ],
      "metadata": {
        "colab": {
          "base_uri": "https://localhost:8080/"
        },
        "id": "T7mle1tARRow",
        "outputId": "1285a2e5-b46b-43a7-d319-62e40d5aedba"
      },
      "execution_count": 3,
      "outputs": [
        {
          "output_type": "stream",
          "name": "stdout",
          "text": [
            "Mounted at /NumPy.ipnyb\n",
            "(1000, 20)\n",
            "Shape of ave_cols: (20,)\n",
            "Shape of std_cols: (20,)\n",
            "Mean normalized X:\n",
            "[[-1.09403071 -0.56645483 -1.10448936 ...  1.18962792 -1.11278349\n",
            "   1.45468994]\n",
            " [ 0.17258126  0.27089023  1.35284679 ... -0.25322996  0.00457297\n",
            "   1.36963236]\n",
            " [-0.44372089  0.53693631  1.12100965 ... -0.14256416  1.01432212\n",
            "  -0.41517099]\n",
            " ...\n",
            " [-0.75742424 -0.96412371 -1.4814827  ... -1.68838327 -0.61535345\n",
            "  -0.8531121 ]\n",
            " [ 1.33092393  1.17754728 -0.50666598 ... -0.38350742 -1.07014663\n",
            "   0.25826013]\n",
            " [-1.05655288 -1.54662462  1.41476176 ...  0.52493271 -0.61738377\n",
            "   0.00730511]]\n",
            "Average of all values in X_norm: -1.1368683772161604e-17\n",
            "Average of minimum values in each column of X_norm: -1.7195072771436533\n",
            "Average of maximum values in each column of X_norm: 1.7491282243758939\n",
            "Random permutation of row indices: [459 359 937 430 265 544 960 437 639 837 440 370 135  69 885 402 271 910\n",
            " 191 739  65 931 800  54 356 631  97 384 510 279 211  37   1 702  39 455\n",
            " 712 737 974 970 358 102 442 592 692 757 210 323 730 978 779   7 503  71\n",
            " 376 833 565 397 143 684 504 799 815 932 626 956 517  50  92 670 521 915\n",
            " 690 116 889 362 619 251 788  74 550 110 418 860  91 273 661 299  52  84\n",
            " 992 441 327 257 414 331  94 556 734 449 340 284 836 787 319 566 389 665\n",
            " 944 625 609 676 270 498 264 850  36 400 663 786 811 806 545 620 396 797\n",
            " 745 673 184 875 205 894 867 633 575 311 835 547 401 925 307 367 962 218\n",
            " 919 298 434   5 433  75 637  79 759 378 686 391   9 595 560 423 320 252\n",
            " 624 917 706 672 785 532 984 861 767 664 469 482 617 939 546  33 173 539\n",
            " 943 454  12  47 789 980 590 732 280 201 147 599 752 388 989 953 869 646\n",
            " 623 765 168 487 467 196 325 309 552 305 249 844 564 866  44 751 422  32\n",
            " 795 841 714 216 108 192 913 267 834 798 608 314 282 308 769 507 481 968\n",
            " 710 863 612  82 700 949 511 335 898 348 223 880 332   3 246 971 650 750\n",
            " 868 551 803 873 268 651 220 713 891 435 632 395 387 819 366 553 744 506\n",
            " 274 711 677 733 202 976 671 398 682 847 709 916 301 999 831 142 464 542\n",
            " 336 330 495 907 973 250 343 342 344 883  40 368 598  73 483 607 534 462\n",
            "  20   2 385  85 796 627 408 735 183  23 514 823 412 290 952 874 372 728\n",
            " 708 990 101 221  43 245 107 189 570 496 405  60 519  80 276 843 350 977\n",
            " 900 685 649 701 909 289  51 157 719 161 426 963 129 134 768  67 940 582\n",
            " 363  70 615 393 294 492 613 203 354 262 181 659  22 853 465 285 334 209\n",
            " 165 392 111 351 248 781   4 303 360 698 808 200 804 373 533 242 452 586\n",
            " 417 742  24 175 783 832 870 958 170 148 174 485 114 427 541 942  59 364\n",
            " 644 741 579 105 762 936 127 770 606 816 113 231 316 499 660 315 281 630\n",
            "  25  10 443 295 601 233 310 352 446 269  55 892  29  81 950 946 813  35\n",
            " 948  46 576 324 117 474 772 955 778 662 224 645 718 345 904 439 555 852\n",
            " 361 947 987 605 182 921 306 448 489 471 486  98 753 226 530 146 120 629\n",
            " 642 169 501 162 429 152 415 479 593 922 998 163 445 951 695  66 313 877\n",
            " 656 149 247 297 535 899 585 736 141 667 153 490  56 259 969 567 304  48\n",
            " 480 278  57 293 386 477 591 828 878 657 132 124 805 144 133 371 979 536\n",
            " 743  83  28  78 568 236 807 888 981 531 859 145  62 635 884 421 680 725\n",
            " 914 638 130  68 238 212 876 777 369 240 583 901 792 288 723  87 461  26\n",
            " 458 683 857 872 292 643 466 747 523 156 179  63  15 818 920 277 648 754\n",
            "  76   6 634 814 326  96 125 494 842 478 912 258 790 190 526 655 689 862\n",
            " 696 587 938 413 647 574 338  21 775 825 688 394 543 312 176 195 339  11\n",
            "  64  86 215  58 581 766 588 207 839 764 447 557 961 801  34 266 848 849\n",
            " 691 322 584 186 488 561 155 185 406 603  45 697 529  53 964 549 154 424\n",
            " 515  61 229  49 399  14 654 794 681 809 235 436 548 756 573 895 177  16\n",
            " 720 537 879 871 600 738 855 780 558   8 333 652 104 784 140 227 679 988\n",
            " 115 846 640  93 731 126 616 193 497 118 283 375 614 993 164  42 214 527\n",
            " 746 985 923 197 740 782 755 121 456 668 703 957 967 476 346 933 776 139\n",
            " 520 425 881 903 244 926 106 253 572 724 254 444 237 178  90 934 538 243\n",
            " 941 475 722 491 838 540 172 234 457 291 827 347  99 678 416 729  13 707\n",
            " 239 996 693 699 302 580 355 602 260 484 300 222 908 854 704 890 621 383\n",
            " 674 559  18 472 171 597 748 451 204 975 341 669 959 577 911 374 945 513\n",
            " 349 138  89 150 261 760 428 628 377 554 569 382 516 658 296 982 321 403\n",
            " 213 199 596 840 119 897 411 829 896 821 954 410 493  95  31 824 109  77\n",
            " 986 928 774 817 773 390 103 594 188 522 826 318 716 812  30 589 793 470\n",
            " 810 845 463 194 328 263 822 502 357 256 726 317 524 965  88 604 763 995\n",
            " 453 528 255 715 935  19 505 217 230 286  72 420 232 610 419  38 287 994\n",
            " 636 500 749 198  41 509 717 905 272 160 675 991 337 856 562 571 228 758\n",
            " 886 136 225 379 404   0 208 927 887 380 983 761 578 508 353 100 858 997\n",
            " 151 882 112 902  17 906 166 721 851 727 123 972 641 893 438 694 468 622\n",
            " 381 450 791 618 771 122 865 820 929 409 930 131 705 512 329 180 666 687\n",
            " 137 966 158 241 864 365 653 518 563 611 167 219 432 924 830  27 918 159\n",
            " 802 128 473 206 460 187 431 407 275 525]\n",
            "X_train shape: (600, 20)\n",
            "X_crossVal shape: (200, 20)\n",
            "X_test shape: (200, 20)\n"
          ]
        }
      ]
    }
  ]
}